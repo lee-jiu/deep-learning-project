{
 "cells": [
  {
   "cell_type": "code",
   "execution_count": 6,
   "metadata": {},
   "outputs": [],
   "source": [
    "from PIL import Image\n",
    "import os, glob, numpy as np\n",
    "from sklearn.model_selection import train_test_split\n",
    "import matplotlib.pyplot as plt"
   ]
  },
  {
   "cell_type": "code",
   "execution_count": 4,
   "metadata": {
    "scrolled": false
   },
   "outputs": [
    {
     "name": "stdout",
     "output_type": "stream",
     "text": [
      "category name :  국  file length :  7954\n",
      "국  :  ./kfood/국\\Img_014_0000.jpg\n",
      "국  :  ./kfood/국\\Img_014_0705.jpg\n",
      "국  :  ./kfood/국\\Img_015_0420.jpg\n",
      "국  :  ./kfood/국\\Img_016_0128.jpg\n",
      "국  :  ./kfood/국\\Img_016_0828.jpg\n",
      "국  :  ./kfood/국\\Img_017_0537.jpg\n",
      "국  :  ./kfood/국\\Img_018_0239.jpg\n",
      "국  :  ./kfood/국\\Img_018_0940.jpg\n",
      "국  :  ./kfood/국\\Img_019_0641.jpg\n",
      "국  :  ./kfood/국\\Img_020_0342.jpg\n",
      "국  :  ./kfood/국\\Img_021_0043.jpg\n",
      "국  :  ./kfood/국\\Img_021_0746.jpg\n",
      "category name :  나물  file length :  4999\n",
      "나물  :  ./kfood/나물\\Img_040_0000.jpg\n",
      "나물  :  ./kfood/나물\\Img_040_0700.jpg\n",
      "나물  :  ./kfood/나물\\Img_041_0400.jpg\n",
      "나물  :  ./kfood/나물\\Img_042_0100.jpg\n",
      "나물  :  ./kfood/나물\\Img_042_0800.jpg\n",
      "나물  :  ./kfood/나물\\Img_043_0500.jpg\n",
      "나물  :  ./kfood/나물\\Img_044_0201.jpg\n",
      "나물  :  ./kfood/나물\\Img_044_0901.jpg\n",
      "category name :  떡  file length :  2982\n",
      "떡  :  ./kfood/떡\\Img_046_0000.jpg\n",
      "떡  :  ./kfood/떡\\Img_046_0701.jpg\n",
      "떡  :  ./kfood/떡\\Img_047_0413.jpg\n",
      "떡  :  ./kfood/떡\\Img_048_0118.jpg\n",
      "떡  :  ./kfood/떡\\Img_048_0819.jpg\n",
      "category name :  밥  file length :  5980\n",
      "밥  :  ./kfood/밥\\Img_070_0000.JPG\n",
      "밥  :  ./kfood/밥\\Img_070_0703.jpg\n",
      "밥  :  ./kfood/밥\\Img_071_0403.jpg\n",
      "밥  :  ./kfood/밥\\Img_072_0107.jpg\n",
      "밥  :  ./kfood/밥\\Img_072_0815.jpg\n",
      "밥  :  ./kfood/밥\\Img_073_0515.jpg\n",
      "밥  :  ./kfood/밥\\Img_074_0215.jpg\n",
      "밥  :  ./kfood/밥\\Img_074_0915.jpg\n",
      "밥  :  ./kfood/밥\\Img_076_0618.jpg\n",
      "category name :  볶음  file length :  8078\n",
      "볶음  :  ./kfood/볶음\\Img_078_0000.JPG\n",
      "볶음  :  ./kfood/볶음\\Img_078_0700.jpg\n",
      "볶음  :  ./kfood/볶음\\Img_079_0400.jpg\n",
      "볶음  :  ./kfood/볶음\\Img_080_0100.jpg\n",
      "볶음  :  ./kfood/볶음\\Img_080_0800.jpg\n",
      "볶음  :  ./kfood/볶음\\Img_084_0501.jpg\n",
      "볶음  :  ./kfood/볶음\\Img_086_0202.jpg\n",
      "볶음  :  ./kfood/볶음\\Img_086_0902.jpg\n",
      "볶음  :  ./kfood/볶음\\Img_087_0604.jpg\n",
      "볶음  :  ./kfood/볶음\\Img_088_0225.jpg\n",
      "볶음  :  ./kfood/볶음\\Img_088_0925.jpg\n",
      "볶음  :  ./kfood/볶음\\Img_089_0624.jpg\n",
      "category name :  전  file length :  5990\n",
      "전  :  ./kfood/전\\Img_097_0000.jpg\n",
      "전  :  ./kfood/전\\Img_097_0703.jpg\n",
      "전  :  ./kfood/전\\Img_100_0405.jpg\n",
      "전  :  ./kfood/전\\Img_101_0104.jpg\n",
      "전  :  ./kfood/전\\Img_101_0804.jpg\n",
      "전  :  ./kfood/전\\Img_102_0505.jpg\n",
      "전  :  ./kfood/전\\Img_103_0206.jpg\n",
      "전  :  ./kfood/전\\Img_103_0906.jpg\n",
      "전  :  ./kfood/전\\Img_104_0610.jpg\n",
      "category name :  찌개  file length :  3991\n",
      "찌개  :  ./kfood/찌개\\Img_119_0000.jpg\n",
      "찌개  :  ./kfood/찌개\\Img_119_0709.jpg\n",
      "찌개  :  ./kfood/찌개\\Img_121_0405.jpg\n",
      "찌개  :  ./kfood/찌개\\Img_122_0106.jpg\n",
      "찌개  :  ./kfood/찌개\\Img_122_0810.jpg\n",
      "찌개  :  ./kfood/찌개\\Img_123_0511.jpg\n",
      "success 39974\n"
     ]
    }
   ],
   "source": [
    "path = \"./kfood\"\n",
    "categories = [\"국\", \"나물\", \"떡\", \"밥\", \"볶음\", \"전\", \"찌개\"]\n",
    "num_classes = len(categories)\n",
    "\n",
    "image_w = 64\n",
    "image_h = 64\n",
    "\n",
    "pixels = image_h * image_w * 3\n",
    "\n",
    "x = []\n",
    "y = []\n",
    "\n",
    "for idx, cat in enumerate(categories):\n",
    "    \n",
    "    #one-hot encoding\n",
    "    label = [0 for i in range(num_classes)]\n",
    "    label[idx] = 1\n",
    "\n",
    "    image_dir = path + \"/\" + cat\n",
    "    files = glob.glob(image_dir+\"/*.jpg\")\n",
    "    print(\"category name : \", cat, \" file length : \", len(files))\n",
    "    for i, f in enumerate(files):\n",
    "        img = Image.open(f)\n",
    "        img = img.convert(\"RGB\")\n",
    "        img = img.resize((image_w, image_h))\n",
    "        data = np.asarray(img)\n",
    "\n",
    "        x.append(data)\n",
    "        y.append(label)\n",
    "\n",
    "        if i % 700 == 0:\n",
    "            print(cat, \" : \", f)\n",
    "\n",
    "x = np.array(x)\n",
    "y = np.array(y)\n",
    "\n",
    "\n",
    "x_train, x_test, y_train, y_test = train_test_split(x, y)\n",
    "\n",
    "\n",
    "xy = (x_train, x_test, y_train, y_test)\n",
    "np.save(\"./kfood_image_data.npy\", xy)\n",
    "\n",
    "print(\"success\", len(y))"
   ]
  },
  {
   "cell_type": "code",
   "execution_count": 109,
   "metadata": {
    "scrolled": true
   },
   "outputs": [
    {
     "name": "stdout",
     "output_type": "stream",
     "text": [
      "29980 9994\n",
      "x_train shape: (29980, 64, 64, 3)\n",
      "29980 train samples\n"
     ]
    },
    {
     "data": {
      "image/png": "[encoded data removed]",
      "text/plain": [
       "<Figure size 432x288 with 1 Axes>"
      ]
     },
     "metadata": {
      "needs_background": "light"
     },
     "output_type": "display_data"
    }
   ],
   "source": [
    "print(len(x_train), len(x_test)) #testset은 약 0.25의 비율로 나눠짐\n",
    "print('x_train shape:', x_train.shape)\n",
    "print(x_train.shape[0], 'train samples')\n",
    "plt.imshow(x_train[280])\n",
    "plt.show()"
   ]
  },
  {
   "cell_type": "code",
   "execution_count": 56,
   "metadata": {},
   "outputs": [
    {
     "name": "stdout",
     "output_type": "stream",
     "text": [
      "(29980, 64, 64, 3)\n",
      "29980\n"
     ]
    }
   ],
   "source": [
    "import keras.backend.tensorflow_backend as K\n",
    "import tensorflow.keras as keras\n",
    "from tensorflow.keras.preprocessing.image import ImageDataGenerator\n",
    "from tensorflow.keras.models import Sequential\n",
    "from tensorflow.keras.layers import Activation, Dense, Flatten\n",
    "from tensorflow.keras.layers import Conv2D, MaxPooling2D, Dropout, ReLU, BatchNormalization\n",
    "from tensorflow.keras import optimizers\n",
    "from tensorflow.keras.optimizers import Adam\n",
    "import os, glob, numpy as np\n",
    "import sys\n",
    "from six.moves import cPickle\n",
    "import matplotlib.pyplot as plt\n",
    "from sklearn.model_selection import train_test_split\n",
    "\n",
    "\n",
    "batch_size = 32\n",
    "num_classes = 7\n",
    "epochs = 25\n",
    "# Steps_per_epoch should typically be equal to the number of unique samples of your dataset divided by the batch size.\n",
    "steps_per_epoch = int(29980/batch_size)\n",
    "save_dir = os.path.join(os.getcwd(), 'saved_models')\n",
    "#save_dir = os.path.join('/content/drive/My Drive/data')\n",
    "model_name = 'trained_model.h5'\n",
    "\n",
    "\n",
    "x_train, x_test, y_train, y_test = np.load('./kfood_image_data.npy', allow_pickle=True)\n",
    "print(x_train.shape)\n",
    "print(x_train.shape[0])"
   ]
  },
  {
   "cell_type": "code",
   "execution_count": 57,
   "metadata": {},
   "outputs": [],
   "source": [
    "x_train = x_train.astype('float32') / 255\n",
    "x_test = x_test.astype('float32') / 255"
   ]
  },
  {
   "cell_type": "code",
   "execution_count": 64,
   "metadata": {
    "scrolled": false
   },
   "outputs": [
    {
     "name": "stdout",
     "output_type": "stream",
     "text": [
      "Epoch 1/25\n",
      "937/937 [==============================] - 12s 13ms/step - loss: 1.5246 - accuracy: 0.4669 - val_loss: 1.2212 - val_accuracy: 0.5679\n",
      "Epoch 2/25\n",
      "937/937 [==============================] - 12s 13ms/step - loss: 1.1567 - accuracy: 0.5772 - val_loss: 1.3895 - val_accuracy: 0.5294\n",
      "Epoch 3/25\n",
      "937/937 [==============================] - 12s 13ms/step - loss: 1.0455 - accuracy: 0.6184 - val_loss: 1.1324 - val_accuracy: 0.6298\n",
      "Epoch 4/25\n",
      "937/937 [==============================] - 12s 13ms/step - loss: 0.9812 - accuracy: 0.6469 - val_loss: 2.0486 - val_accuracy: 0.5468\n",
      "Epoch 5/25\n",
      "937/937 [==============================] - 12s 13ms/step - loss: 0.9423 - accuracy: 0.6560 - val_loss: 0.9939 - val_accuracy: 0.6418\n",
      "Epoch 6/25\n",
      "937/937 [==============================] - 12s 13ms/step - loss: 0.8765 - accuracy: 0.6795 - val_loss: 0.9738 - val_accuracy: 0.6709\n",
      "Epoch 7/25\n",
      "937/937 [==============================] - 12s 13ms/step - loss: 0.8395 - accuracy: 0.6942 - val_loss: 1.1049 - val_accuracy: 0.6152\n",
      "Epoch 8/25\n",
      "937/937 [==============================] - 13s 13ms/step - loss: 0.7894 - accuracy: 0.7124 - val_loss: 0.9244 - val_accuracy: 0.6853\n",
      "Epoch 9/25\n",
      "937/937 [==============================] - 13s 13ms/step - loss: 0.7389 - accuracy: 0.7316 - val_loss: 0.9666 - val_accuracy: 0.6592\n",
      "Epoch 10/25\n",
      "937/937 [==============================] - 12s 13ms/step - loss: 0.6954 - accuracy: 0.7466 - val_loss: 1.0192 - val_accuracy: 0.6678\n",
      "Epoch 11/25\n",
      "937/937 [==============================] - 12s 13ms/step - loss: 0.6621 - accuracy: 0.7614 - val_loss: 0.8693 - val_accuracy: 0.6932\n",
      "Epoch 12/25\n",
      "937/937 [==============================] - 12s 13ms/step - loss: 0.6293 - accuracy: 0.7714 - val_loss: 0.7932 - val_accuracy: 0.7233\n",
      "Epoch 13/25\n",
      "937/937 [==============================] - 12s 13ms/step - loss: 0.6014 - accuracy: 0.7824 - val_loss: 0.7738 - val_accuracy: 0.7320\n",
      "Epoch 14/25\n",
      "937/937 [==============================] - 12s 13ms/step - loss: 0.5688 - accuracy: 0.7919 - val_loss: 0.7542 - val_accuracy: 0.7335\n",
      "Epoch 15/25\n",
      "937/937 [==============================] - 12s 13ms/step - loss: 0.5490 - accuracy: 0.8010 - val_loss: 0.7932 - val_accuracy: 0.7267.5495 - accuracy\n",
      "Epoch 16/25\n",
      "937/937 [==============================] - 12s 13ms/step - loss: 0.5414 - accuracy: 0.8042 - val_loss: 0.7840 - val_accuracy: 0.7365\n",
      "Epoch 17/25\n",
      "937/937 [==============================] - 12s 13ms/step - loss: 0.5038 - accuracy: 0.8172 - val_loss: 0.7370 - val_accuracy: 0.7414\n",
      "Epoch 18/25\n",
      "937/937 [==============================] - 12s 13ms/step - loss: 0.4967 - accuracy: 0.8189 - val_loss: 0.8175 - val_accuracy: 0.7226\n",
      "Epoch 19/25\n",
      "937/937 [==============================] - 12s 13ms/step - loss: 0.4677 - accuracy: 0.8319 - val_loss: 0.7540 - val_accuracy: 0.7441\n",
      "Epoch 20/25\n",
      "937/937 [==============================] - 12s 13ms/step - loss: 0.4492 - accuracy: 0.8363 - val_loss: 0.8596 - val_accuracy: 0.7213\n",
      "Epoch 21/25\n",
      "937/937 [==============================] - 12s 13ms/step - loss: 0.4894 - accuracy: 0.8231 - val_loss: 0.8026 - val_accuracy: 0.7350\n",
      "Epoch 22/25\n",
      "937/937 [==============================] - 12s 13ms/step - loss: 0.4300 - accuracy: 0.8439 - val_loss: 0.8890 - val_accuracy: 0.7083\n",
      "Epoch 23/25\n",
      "937/937 [==============================] - 12s 13ms/step - loss: 0.4222 - accuracy: 0.8503 - val_loss: 0.7867 - val_accuracy: 0.7364\n",
      "Epoch 24/25\n",
      "937/937 [==============================] - 12s 13ms/step - loss: 0.4030 - accuracy: 0.8535 - val_loss: 0.7899 - val_accuracy: 0.7453\n",
      "Epoch 25/25\n",
      "937/937 [==============================] - 12s 13ms/step - loss: 0.3883 - accuracy: 0.8594 - val_loss: 0.7632 - val_accuracy: 0.7504\n",
      "Saved trained model at C:\\Users\\SAMSUNG\\saved_models\\trained_model.h5 \n"
     ]
    }
   ],
   "source": [
    "with K.tf_ops.device('/device:GPU:0'):\n",
    "    model = Sequential()\n",
    "    \n",
    "    model.add(Conv2D(32, (3,3), padding=\"same\", input_shape=x_train.shape[1:],activation='relu', kernel_initializer='he_uniform'))\n",
    "    model.add(BatchNormalization())\n",
    "    \n",
    "    model.add(MaxPooling2D(pool_size=(2,2)))\n",
    "    model.add(Dropout(0.25))\n",
    "    \n",
    "    model.add(Conv2D(64, (3,3), padding=\"same\",  activation='relu', kernel_initializer='he_uniform'))\n",
    "    model.add(BatchNormalization())\n",
    "    \n",
    "    model.add(MaxPooling2D(pool_size=(2,2)))\n",
    "    model.add(Dropout(0.5))\n",
    "    \n",
    "    model.add(Flatten())\n",
    "    model.add(Dense(256, activation='relu', kernel_initializer='he_uniform'))\n",
    "    model.add(BatchNormalization())\n",
    "    model.add(Dropout(0.5))\n",
    "    model.add(Dense(num_classes, activation='softmax'))\n",
    "\n",
    "    \n",
    "    model.compile(loss='categorical_crossentropy',\n",
    "              optimizer='adam',\n",
    "              metrics=['accuracy'])\n",
    "    \n",
    "\n",
    "\n",
    "# Train\n",
    "history = model.fit(x_train, y_train, batch_size=batch_size, epochs=epochs, validation_data=(x_test, y_test))\n",
    "\n",
    "# Save model and weights\n",
    "if not os.path.isdir(save_dir):\n",
    "    os.makedirs(save_dir)\n",
    "model_path = os.path.join(save_dir, model_name)\n",
    "model.save(model_path)\n",
    "print('Saved trained model at %s ' % model_path)"
   ]
  },
  {
   "cell_type": "code",
   "execution_count": 65,
   "metadata": {},
   "outputs": [
    {
     "name": "stdout",
     "output_type": "stream",
     "text": [
      "Model: \"sequential_12\"\n",
      "_________________________________________________________________\n",
      "Layer (type)                 Output Shape              Param #   \n",
      "=================================================================\n",
      "conv2d_22 (Conv2D)           (None, 64, 64, 32)        896       \n",
      "_________________________________________________________________\n",
      "batch_normalization_24 (Batc (None, 64, 64, 32)        128       \n",
      "_________________________________________________________________\n",
      "max_pooling2d_22 (MaxPooling (None, 32, 32, 32)        0         \n",
      "_________________________________________________________________\n",
      "dropout_33 (Dropout)         (None, 32, 32, 32)        0         \n",
      "_________________________________________________________________\n",
      "conv2d_23 (Conv2D)           (None, 32, 32, 64)        18496     \n",
      "_________________________________________________________________\n",
      "batch_normalization_25 (Batc (None, 32, 32, 64)        256       \n",
      "_________________________________________________________________\n",
      "max_pooling2d_23 (MaxPooling (None, 16, 16, 64)        0         \n",
      "_________________________________________________________________\n",
      "dropout_34 (Dropout)         (None, 16, 16, 64)        0         \n",
      "_________________________________________________________________\n",
      "flatten_11 (Flatten)         (None, 16384)             0         \n",
      "_________________________________________________________________\n",
      "dense_22 (Dense)             (None, 256)               4194560   \n",
      "_________________________________________________________________\n",
      "batch_normalization_26 (Batc (None, 256)               1024      \n",
      "_________________________________________________________________\n",
      "dropout_35 (Dropout)         (None, 256)               0         \n",
      "_________________________________________________________________\n",
      "dense_23 (Dense)             (None, 7)                 1799      \n",
      "=================================================================\n",
      "Total params: 4,217,159\n",
      "Trainable params: 4,216,455\n",
      "Non-trainable params: 704\n",
      "_________________________________________________________________\n"
     ]
    }
   ],
   "source": [
    "model.summary()"
   ]
  },
  {
   "cell_type": "code",
   "execution_count": 66,
   "metadata": {},
   "outputs": [
    {
     "data": {
      "image/png": "[encoded data removed]",
      "text/plain": [
       "<Figure size 432x288 with 1 Axes>"
      ]
     },
     "metadata": {
      "needs_background": "light"
     },
     "output_type": "display_data"
    },
    {
     "data": {
      "image/png": "[encoded data removed]",
      "text/plain": [
       "<Figure size 432x288 with 1 Axes>"
      ]
     },
     "metadata": {
      "needs_background": "light"
     },
     "output_type": "display_data"
    }
   ],
   "source": [
    "acc = history.history['accuracy']\n",
    "val_acc = history.history['val_accuracy']\n",
    "\n",
    "loss = history.history['loss']\n",
    "val_loss = history.history['val_loss']\n",
    "\n",
    "epochs_range = range(epochs)\n",
    "\n",
    "\n",
    "plt.plot(epochs_range, acc, label='Training Accuracy')\n",
    "plt.plot(epochs_range, val_acc, label='Validation Accuracy')\n",
    "plt.legend(loc='lower right')\n",
    "plt.title('Training and Validation Accuracy')\n",
    "plt.show()\n",
    "\n",
    "\n",
    "plt.plot(epochs_range, loss, label='Training Loss')\n",
    "plt.plot(epochs_range, val_loss, label='Validation Loss')\n",
    "plt.legend(loc='upper right')\n",
    "plt.title('Training and Validation Loss')\n",
    "plt.show()"
   ]
  }
 ],
 "metadata": {
  "kernelspec": {
   "display_name": "Python 3",
   "language": "python",
   "name": "python3"
  },
  "language_info": {
   "codemirror_mode": {
    "name": "ipython",
    "version": 3
   },
   "file_extension": ".py",
   "mimetype": "text/x-python",
   "name": "python",
   "nbconvert_exporter": "python",
   "pygments_lexer": "ipython3",
   "version": "3.6.10"
  }
 },
 "nbformat": 4,
 "nbformat_minor": 4
}
